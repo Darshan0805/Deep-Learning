{
  "nbformat": 4,
  "nbformat_minor": 0,
  "metadata": {
    "colab": {
      "provenance": [],
      "authorship_tag": "ABX9TyP50ldrn5TLDpeSQyGbgycW",
      "include_colab_link": true
    },
    "kernelspec": {
      "name": "python3",
      "display_name": "Python 3"
    },
    "language_info": {
      "name": "python"
    }
  },
  "cells": [
    {
      "cell_type": "markdown",
      "metadata": {
        "id": "view-in-github",
        "colab_type": "text"
      },
      "source": [
        "<a href=\"https://colab.research.google.com/github/Darshan0805/Deep-Learning/blob/main/L1%2C_L2.ipynb\" target=\"_parent\"><img src=\"https://colab.research.google.com/assets/colab-badge.svg\" alt=\"Open In Colab\"/></a>"
      ]
    },
    {
      "cell_type": "markdown",
      "source": [
        "Apply L1,L2 and elasticNet regularisation to a single-layered neural network with four input nodes and a bias. Assume the input vector has the value [1,2,2,1] and bias = 0 with no activation function at an output node. The learned parameter vector W = [0.25, 0.25, 0.25, 0.25] returns the expected result of \"2.\"\n",
        "a) Estimate the total loss using L1 , L2 and Elastic Net regularization separately\n",
        "b)  Compare the effects of L1 , L2 and Elastic Net regularization techniques"
      ],
      "metadata": {
        "id": "hP1vDXa4lENs"
      }
    },
    {
      "cell_type": "code",
      "execution_count": 1,
      "metadata": {
        "colab": {
          "base_uri": "https://localhost:8080/"
        },
        "id": "cZKaHFy5lAhH",
        "outputId": "1faa6336-894e-49f1-ff75-071c9eeb45f0"
      },
      "outputs": [
        {
          "output_type": "stream",
          "name": "stdout",
          "text": [
            "L1 Loss: 1.0\n",
            "L2 Loss: 0.0625\n",
            "Elastic Net Loss: 1.0625\n"
          ]
        }
      ],
      "source": [
        "import numpy as np\n",
        "\n",
        "# Given values\n",
        "input_vector = np.array([1, 2, 2, 1])\n",
        "bias = 0\n",
        "weights = np.array([0.25, 0.25, 0.25, 0.25])\n",
        "expected_output = 2\n",
        "lambda_l1 = 1\n",
        "lambda_l2 = 0.25\n",
        "\n",
        "# Calculate the total loss with L1 regularization\n",
        "l1_loss = np.sum(np.abs(weights)) * lambda_l1\n",
        "\n",
        "# Calculate the total loss with L2 regularization\n",
        "l2_loss = np.sum(weights**2) * lambda_l2\n",
        "\n",
        "# Calculate the total loss with Elastic Net regularization\n",
        "elastic_net_loss = l1_loss + l2_loss\n",
        "\n",
        "print(f\"L1 Loss: {l1_loss}\")\n",
        "print(f\"L2 Loss: {l2_loss}\")\n",
        "print(f\"Elastic Net Loss: {elastic_net_loss}\")"
      ]
    }
  ]
}